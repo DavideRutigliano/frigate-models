{
  "cells": [
    {
      "cell_type": "markdown",
      "metadata": {
        "id": "view-in-github",
        "colab_type": "text"
      },
      "source": [
        "<a href=\"https://colab.research.google.com/github/DavideRutigliano/frigate-models/blob/main/notebooks/YOLO_NAS_Pretrained_Export.ipynb\" target=\"_parent\"><img src=\"https://colab.research.google.com/assets/colab-badge.svg\" alt=\"Open In Colab\"/></a>"
      ]
    },
    {
      "cell_type": "markdown",
      "source": [
        "# Install packages"
      ],
      "metadata": {
        "id": "LFrYuNXjfW2Z"
      }
    },
    {
      "cell_type": "code",
      "execution_count": 1,
      "metadata": {
        "id": "rmuF9iKWTbdk",
        "collapsed": true
      },
      "outputs": [],
      "source": [
        "%%capture\n",
        "!pip install super_gradients\n",
        "!git clone https://github.com/Deci-AI/super-gradients.git /content/super_gradients_folder\n",
        "!sed -i 's/sghub.deci.ai/sg-hub-nv.s3.amazonaws.com/' /content/super_gradients_folder/src/super_gradients/training/pretrained_models.py\n",
        "!sed -i 's/sghub.deci.ai/sg-hub-nv.s3.amazonaws.com/' /content/super_gradients_folder/src/super_gradients/training/utils/checkpoint_utils.py\n",
        "!pip install -e /content/super_gradients_folder\n",
        "!pip install onnxruntime"
      ]
    },
    {
      "cell_type": "markdown",
      "source": [
        "## Select model"
      ],
      "metadata": {
        "id": "32ZL1W_3fbcD"
      }
    },
    {
      "cell_type": "code",
      "source": [
        "model_name = 'yolonas_s' #@param [\"yolonas_s\", \"yolonas_m\", \"yolonas_l\"]\n",
        "quantization = 'fp16' #@param [\"fp16\", \"uint8\"]\n",
        "input_width = 320 #@param {type:\"slider\", min:320, max:640, step:320}\n",
        "input_height = 320 #@param {type:\"slider\", min:320, max:640, step:320}\n",
        "\n",
        "MODEL_FILENAME = f\"{model_name}_{quantization}_{input_width}x{input_height}.onnx\""
      ],
      "metadata": {
        "id": "O_f9J1KAOdGU"
      },
      "execution_count": 2,
      "outputs": []
    },
    {
      "cell_type": "code",
      "execution_count": null,
      "metadata": {
        "id": "dTB0jy_NNSFz",
        "colab": {
          "base_uri": "https://localhost:8080/"
        },
        "outputId": "a1bd9496-44a0-4e0d-c24f-87ebb6c5fe79"
      },
      "outputs": [
        {
          "output_type": "stream",
          "name": "stdout",
          "text": [
            "The console stream is logged into /root/sg_logs/console.log\n"
          ]
        },
        {
          "output_type": "stream",
          "name": "stderr",
          "text": [
            "[2025-03-14 08:27:56] INFO - crash_tips_setup.py - Crash tips is enabled. You can set your environment variable to CRASH_HANDLER=FALSE to disable it\n"
          ]
        }
      ],
      "source": [
        "from super_gradients.common.object_names import Models\n",
        "from super_gradients.training import models\n",
        "\n",
        "MODEL_NAMES = {\n",
        "    \"yolonas_s\": Models.YOLO_NAS_S,\n",
        "    \"yolonas_m\": Models.YOLO_NAS_M,\n",
        "    \"yolonas_l\": Models.YOLO_NAS_L,\n",
        "}\n",
        "\n",
        "model = models.get(MODEL_NAMES[model_name], pretrained_weights=\"coco\")\n",
        "model.eval()\n",
        "model.prep_model_for_conversion(input_size=[1, 3, input_height, input_width])"
      ]
    },
    {
      "cell_type": "code",
      "execution_count": null,
      "metadata": {
        "id": "GymUghyCNXem"
      },
      "outputs": [],
      "source": [
        "from super_gradients.conversion import DetectionOutputFormatMode\n",
        "from super_gradients.conversion.conversion_enums import ExportQuantizationMode\n",
        "\n",
        "quantization_mode = ExportQuantizationMode.FP16 if quantization == \"fp16\" else ExportQuantizationMode.INT8\n",
        "model.export(\n",
        "  MODEL_FILENAME,\n",
        "  input_image_shape=(input_height, input_width),\n",
        "  num_pre_nms_predictions=300,\n",
        "  max_predictions_per_image=5,\n",
        "  nms_threshold=0.7,\n",
        "  confidence_threshold=0.4,\n",
        "  output_predictions_format=DetectionOutputFormatMode.FLAT_FORMAT,\n",
        "  quantization_mode=quantization_mode\n",
        ")"
      ]
    },
    {
      "cell_type": "code",
      "source": [
        "import onnxruntime as ort\n",
        "import numpy as np\n",
        "\n",
        "dummy_input = np.random.randint(0, 255, (1, 3, input_width, input_height)).astype(np.uint8)\n",
        "\n",
        "ort_session = ort.InferenceSession(MODEL_FILENAME, providers=[\"ROCMExecutionProvider\"])\n",
        "ort_session.run(None, {\"input\": dummy_input})"
      ],
      "metadata": {
        "id": "kOBHFhWVeNDi"
      },
      "execution_count": null,
      "outputs": []
    },
    {
      "cell_type": "code",
      "execution_count": null,
      "metadata": {
        "id": "uBhXV5g4Nh42"
      },
      "outputs": [],
      "source": [
        "from google.colab import files\n",
        "\n",
        "files.download(MODEL_FILENAME)"
      ]
    },
    {
      "cell_type": "code",
      "source": [],
      "metadata": {
        "id": "9JCw9P9xxHN0"
      },
      "execution_count": null,
      "outputs": []
    }
  ],
  "metadata": {
    "colab": {
      "provenance": [],
      "include_colab_link": true
    },
    "kernelspec": {
      "display_name": "Python 3",
      "name": "python3"
    },
    "language_info": {
      "name": "python"
    }
  },
  "nbformat": 4,
  "nbformat_minor": 0
}