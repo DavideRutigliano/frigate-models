{
  "nbformat": 4,
  "nbformat_minor": 0,
  "metadata": {
    "colab": {
      "provenance": [],
      "include_colab_link": true
    },
    "kernelspec": {
      "name": "python3",
      "display_name": "Python 3"
    },
    "language_info": {
      "name": "python"
    },
    "accelerator": "GPU",
    "gpuClass": "standard"
  },
  "cells": [
    {
      "cell_type": "markdown",
      "metadata": {
        "id": "view-in-github",
        "colab_type": "text"
      },
      "source": [
        "<a href=\"https://colab.research.google.com/github/DavideRutigliano/frigate-models/blob/main/notebooks/YOLOv8_Pretrained_Export.ipynb\" target=\"_parent\"><img src=\"https://colab.research.google.com/assets/colab-badge.svg\" alt=\"Open In Colab\"/></a>"
      ]
    },
    {
      "cell_type": "markdown",
      "source": [
        "# Install packages"
      ],
      "metadata": {
        "id": "6TvZkL0Q7wvH"
      }
    },
    {
      "cell_type": "code",
      "source": [
        "%%capture\n",
        "!pip install ultralytics"
      ],
      "metadata": {
        "id": "dX737MUHaNd6"
      },
      "execution_count": 1,
      "outputs": []
    },
    {
      "cell_type": "markdown",
      "source": [
        "## Select model"
      ],
      "metadata": {
        "id": "Gbxqefew8-Ym"
      }
    },
    {
      "cell_type": "code",
      "execution_count": 45,
      "metadata": {
        "id": "jCQCO5ZjNN0t"
      },
      "outputs": [],
      "source": [
        "from ultralytics import YOLO\n",
        "\n",
        "model_name = \"yolo11s\" #@param [\"yolov8s\", \"yolov8m\", \"yolov8l\", \"yolov9s\", \"yolov9m\", \"yolov9c\", \"yolo11s\", \"yolo11m\", \"yolo11l\"]\n",
        "input_width = 320 #@param {type:\"slider\", min:320, max:640, step:320}\n",
        "input_height = 320 #@param {type:\"slider\", min:320, max:640, step:320}\n",
        "quantization = \"fp16\"\n",
        "\n",
        "MODEL_FILENAME = f\"{model_name}_{quantization}_{input_width}x{input_height}.onnx\""
      ]
    },
    {
      "cell_type": "code",
      "source": [
        "model = YOLO(f\"{model_name}.pt\")\n",
        "model.export(\n",
        "  format=\"onnx\",\n",
        "  imgsz=[input_height,input_width],\n",
        "  half=(quantization==\"fp16\"),\n",
        "  optimize=False,\n",
        ")\n",
        "!mv {model_name}.onnx {MODEL_FILENAME}"
      ],
      "metadata": {
        "id": "LDNrHDeKbOrr",
        "outputId": "6c18c9ec-5b25-4d1c-db44-a80965aa6098",
        "colab": {
          "base_uri": "https://localhost:8080/"
        }
      },
      "execution_count": 46,
      "outputs": [
        {
          "output_type": "stream",
          "name": "stdout",
          "text": [
            "Downloading https://github.com/ultralytics/assets/releases/download/v8.3.0/yolo11s.pt to 'yolo11s.pt'...\n"
          ]
        },
        {
          "output_type": "stream",
          "name": "stderr",
          "text": [
            "100%|██████████| 18.4M/18.4M [00:00<00:00, 151MB/s]"
          ]
        },
        {
          "output_type": "stream",
          "name": "stdout",
          "text": [
            "Ultralytics 8.3.93 🚀 Python-3.11.11 torch-2.6.0+cu124 CPU (Intel Xeon 2.30GHz)\n",
            "WARNING ⚠️ half=True only compatible with GPU export, i.e. use device=0\n"
          ]
        },
        {
          "output_type": "stream",
          "name": "stderr",
          "text": [
            "\n"
          ]
        },
        {
          "output_type": "stream",
          "name": "stdout",
          "text": [
            "YOLO11s summary (fused): 100 layers, 9,443,760 parameters, 0 gradients, 21.5 GFLOPs\n",
            "\n",
            "\u001b[34m\u001b[1mPyTorch:\u001b[0m starting from 'yolo11s.pt' with input shape (1, 3, 320, 320) BCHW and output shape(s) (1, 84, 2100) (18.4 MB)\n",
            "\n",
            "\u001b[34m\u001b[1mONNX:\u001b[0m starting export with onnx 1.17.0 opset 19...\n",
            "\u001b[34m\u001b[1mONNX:\u001b[0m slimming with onnxslim 0.1.48...\n",
            "\u001b[34m\u001b[1mONNX:\u001b[0m export success ✅ 2.1s, saved as 'yolo11s.onnx' (36.1 MB)\n",
            "\n",
            "Export complete (2.8s)\n",
            "Results saved to \u001b[1m/content\u001b[0m\n",
            "Predict:         yolo predict task=detect model=yolo11s.onnx imgsz=320  \n",
            "Validate:        yolo val task=detect model=yolo11s.onnx imgsz=320 data=/usr/src/ultralytics/ultralytics/cfg/datasets/coco.yaml  \n",
            "Visualize:       https://netron.app\n"
          ]
        }
      ]
    },
    {
      "cell_type": "code",
      "source": [
        "import onnxruntime as ort\n",
        "import numpy as np\n",
        "\n",
        "dummy_input = np.random.randint(0, 255, (1, 3, input_width, input_height)).astype(np.float32)\n",
        "\n",
        "ort_session = ort.InferenceSession(MODEL_FILENAME, providers=[\"ROCMExecutionProvider\"])\n",
        "ort_session.run(None, {\"images\": dummy_input})"
      ],
      "metadata": {
        "id": "WxfrVd2vbhhM",
        "outputId": "0b1e9970-741a-4508-89f3-223dc1f406e2",
        "colab": {
          "base_uri": "https://localhost:8080/"
        }
      },
      "execution_count": 47,
      "outputs": [
        {
          "output_type": "execute_result",
          "data": {
            "text/plain": [
              "[array([[[     6.3959,      13.846,      22.053, ...,      166.86,      198.92,      233.55],\n",
              "         [     2.2839,      2.3691,      2.6521, ...,      263.13,      255.86,      238.57],\n",
              "         [       6.98,      25.196,      26.798, ...,      349.95,      247.38,       179.3],\n",
              "         ...,\n",
              "         [          0,           0,           0, ...,  5.9605e-08,  1.0341e-05,  3.6746e-05],\n",
              "         [          0,           0,           0, ...,  3.8743e-07,  3.5763e-06,  8.5533e-06],\n",
              "         [          0,           0,           0, ...,  3.5763e-07,  4.3809e-06,  7.0632e-06]]], dtype=float32)]"
            ]
          },
          "metadata": {},
          "execution_count": 47
        }
      ]
    },
    {
      "cell_type": "markdown",
      "source": [
        "## Download model"
      ],
      "metadata": {
        "id": "sU-BySBn93TD"
      }
    },
    {
      "cell_type": "code",
      "source": [
        "%cd /content\n",
        "from google.colab import files\n",
        "\n",
        "files.download(MODEL_FILENAME)"
      ],
      "metadata": {
        "colab": {
          "base_uri": "https://localhost:8080/",
          "height": 35
        },
        "id": "rKnUE62F925P",
        "outputId": "b41d263c-a095-461f-b320-73467a8bca79"
      },
      "execution_count": 48,
      "outputs": [
        {
          "output_type": "stream",
          "name": "stdout",
          "text": [
            "/content\n"
          ]
        },
        {
          "output_type": "display_data",
          "data": {
            "text/plain": [
              "<IPython.core.display.Javascript object>"
            ],
            "application/javascript": [
              "\n",
              "    async function download(id, filename, size) {\n",
              "      if (!google.colab.kernel.accessAllowed) {\n",
              "        return;\n",
              "      }\n",
              "      const div = document.createElement('div');\n",
              "      const label = document.createElement('label');\n",
              "      label.textContent = `Downloading \"${filename}\": `;\n",
              "      div.appendChild(label);\n",
              "      const progress = document.createElement('progress');\n",
              "      progress.max = size;\n",
              "      div.appendChild(progress);\n",
              "      document.body.appendChild(div);\n",
              "\n",
              "      const buffers = [];\n",
              "      let downloaded = 0;\n",
              "\n",
              "      const channel = await google.colab.kernel.comms.open(id);\n",
              "      // Send a message to notify the kernel that we're ready.\n",
              "      channel.send({})\n",
              "\n",
              "      for await (const message of channel.messages) {\n",
              "        // Send a message to notify the kernel that we're ready.\n",
              "        channel.send({})\n",
              "        if (message.buffers) {\n",
              "          for (const buffer of message.buffers) {\n",
              "            buffers.push(buffer);\n",
              "            downloaded += buffer.byteLength;\n",
              "            progress.value = downloaded;\n",
              "          }\n",
              "        }\n",
              "      }\n",
              "      const blob = new Blob(buffers, {type: 'application/binary'});\n",
              "      const a = document.createElement('a');\n",
              "      a.href = window.URL.createObjectURL(blob);\n",
              "      a.download = filename;\n",
              "      div.appendChild(a);\n",
              "      a.click();\n",
              "      div.remove();\n",
              "    }\n",
              "  "
            ]
          },
          "metadata": {}
        },
        {
          "output_type": "display_data",
          "data": {
            "text/plain": [
              "<IPython.core.display.Javascript object>"
            ],
            "application/javascript": [
              "download(\"download_a7700d93-a8b7-407c-bc6b-39935d1301dc\", \"yolo11s_fp16_320x320.onnx\", 37904553)"
            ]
          },
          "metadata": {}
        }
      ]
    },
    {
      "cell_type": "code",
      "source": [],
      "metadata": {
        "id": "K5dQ6uP9c4z0"
      },
      "execution_count": null,
      "outputs": []
    }
  ]
}